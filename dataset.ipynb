{
 "cells": [
  {
   "cell_type": "markdown",
   "metadata": {},
   "source": [
    "#### This notebook takes a directory of 100 mpeg-4 RGB movies whose fps are all equal to 24 and are 2 seconds long, and creates the dataset that was used to train the Boris AI Denoiser model with denoise.ipynb. Each movie is split into 96x96 pixel crops(220 cropped videos per movie) so each sub-directory represents 1 cropped video and is named `$movie_index-$crop_index`. Each sub-directory has 48 numbered frames written as png files."
   ]
  },
  {
   "cell_type": "code",
   "execution_count": null,
   "metadata": {},
   "outputs": [],
   "source": [
    "import moviepy.editor as mpy\n",
    "from PIL import Image\n",
    "import os\n",
    "import numpy as np"
   ]
  },
  {
   "cell_type": "code",
   "execution_count": null,
   "metadata": {},
   "outputs": [],
   "source": [
    "os.mkdir('datasets/denoise')\n",
    "directory = os.listdir('datasets/2k_video_clips')\n",
    "crop_size = 96\n",
    "movie_index = 0\n",
    "for video_filename in directory:\n",
    "    movie = mpy.VideoFileClip(os.path.join('datasets/2k_video_clips', video_filename))\n",
    "    frame_index = 0\n",
    "    for frame in movie.iter_frames(fps = 24, dtype='uint8'):\n",
    "        # make sure there are no more than 48 frames per movie\n",
    "        if frame_index > 47:\n",
    "            continue\n",
    "        image = Image.fromarray(frame)\n",
    "        width, height = image.size\n",
    "        num_horizontal_crops = width // crop_size\n",
    "        num_vertical_crops = height // crop_size\n",
    "        crop_index = 0\n",
    "        for i in range(num_horizontal_crops):\n",
    "            for j in range(num_vertical_crops):\n",
    "                left, top, right, bottom = i*crop_size, j*crop_size, (i+1)*crop_size, (j+1)*crop_size\n",
    "                cropped_image = image.crop((left, top, right, bottom))\n",
    "                filepath = os.path.join('datasets/denoise','%02d-%03d' %(movie_index, crop_index), '%02d' %frame_index + '.png')\n",
    "                if frame_index == 0:\n",
    "                    os.mkdir('datasets/denoise/%02d-%03d' %(movie_index, crop_index))\n",
    "                cropped_image.save(filepath)\n",
    "                crop_index += 1\n",
    "        frame_index += 1\n",
    "    movie_index += 1\n",
    "                                "
   ]
  }
 ],
 "metadata": {
  "kernelspec": {
   "display_name": "Python 3",
   "language": "python",
   "name": "python3"
  },
  "language_info": {
   "codemirror_mode": {
    "name": "ipython",
    "version": 3
   },
   "file_extension": ".py",
   "mimetype": "text/x-python",
   "name": "python",
   "nbconvert_exporter": "python",
   "pygments_lexer": "ipython3",
   "version": "3.8.5"
  }
 },
 "nbformat": 4,
 "nbformat_minor": 4
}
